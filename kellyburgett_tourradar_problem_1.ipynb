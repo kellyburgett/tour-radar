{
 "cells": [
  {
   "cell_type": "code",
   "execution_count": 74,
   "metadata": {},
   "outputs": [
    {
     "data": {
      "text/html": [
       "<div>\n",
       "<style>\n",
       "    .dataframe thead tr:only-child th {\n",
       "        text-align: right;\n",
       "    }\n",
       "\n",
       "    .dataframe thead th {\n",
       "        text-align: left;\n",
       "    }\n",
       "\n",
       "    .dataframe tbody tr th {\n",
       "        vertical-align: top;\n",
       "    }\n",
       "</style>\n",
       "<table border=\"1\" class=\"dataframe\">\n",
       "  <thead>\n",
       "    <tr style=\"text-align: right;\">\n",
       "      <th></th>\n",
       "      <th>date</th>\n",
       "      <th>version</th>\n",
       "      <th>location</th>\n",
       "      <th>device</th>\n",
       "      <th>browser</th>\n",
       "      <th>visits</th>\n",
       "      <th>bounce_rate</th>\n",
       "      <th>time_on_page</th>\n",
       "      <th>conversions</th>\n",
       "      <th>conversion_rate</th>\n",
       "    </tr>\n",
       "  </thead>\n",
       "  <tbody>\n",
       "    <tr>\n",
       "      <th>0</th>\n",
       "      <td>2017-10-01</td>\n",
       "      <td>0</td>\n",
       "      <td>Australia</td>\n",
       "      <td>Desktop</td>\n",
       "      <td>Chrome</td>\n",
       "      <td>981</td>\n",
       "      <td>0.39</td>\n",
       "      <td>186</td>\n",
       "      <td>0</td>\n",
       "      <td>0.000000</td>\n",
       "    </tr>\n",
       "    <tr>\n",
       "      <th>1</th>\n",
       "      <td>2017-10-01</td>\n",
       "      <td>0</td>\n",
       "      <td>Australia</td>\n",
       "      <td>Desktop</td>\n",
       "      <td>Safari</td>\n",
       "      <td>176</td>\n",
       "      <td>0.51</td>\n",
       "      <td>172</td>\n",
       "      <td>2</td>\n",
       "      <td>0.011364</td>\n",
       "    </tr>\n",
       "    <tr>\n",
       "      <th>2</th>\n",
       "      <td>2017-10-01</td>\n",
       "      <td>0</td>\n",
       "      <td>Australia</td>\n",
       "      <td>Desktop</td>\n",
       "      <td>Other</td>\n",
       "      <td>241</td>\n",
       "      <td>0.43</td>\n",
       "      <td>127</td>\n",
       "      <td>1</td>\n",
       "      <td>0.004149</td>\n",
       "    </tr>\n",
       "    <tr>\n",
       "      <th>3</th>\n",
       "      <td>2017-10-01</td>\n",
       "      <td>0</td>\n",
       "      <td>Australia</td>\n",
       "      <td>Tablet</td>\n",
       "      <td>Chrome</td>\n",
       "      <td>220</td>\n",
       "      <td>0.47</td>\n",
       "      <td>159</td>\n",
       "      <td>2</td>\n",
       "      <td>0.009091</td>\n",
       "    </tr>\n",
       "    <tr>\n",
       "      <th>4</th>\n",
       "      <td>2017-10-01</td>\n",
       "      <td>0</td>\n",
       "      <td>Australia</td>\n",
       "      <td>Tablet</td>\n",
       "      <td>Safari</td>\n",
       "      <td>93</td>\n",
       "      <td>0.34</td>\n",
       "      <td>135</td>\n",
       "      <td>1</td>\n",
       "      <td>0.010753</td>\n",
       "    </tr>\n",
       "  </tbody>\n",
       "</table>\n",
       "</div>"
      ],
      "text/plain": [
       "         date  version   location   device browser  visits  bounce_rate  \\\n",
       "0  2017-10-01        0  Australia  Desktop  Chrome     981         0.39   \n",
       "1  2017-10-01        0  Australia  Desktop  Safari     176         0.51   \n",
       "2  2017-10-01        0  Australia  Desktop   Other     241         0.43   \n",
       "3  2017-10-01        0  Australia   Tablet  Chrome     220         0.47   \n",
       "4  2017-10-01        0  Australia   Tablet  Safari      93         0.34   \n",
       "\n",
       "   time_on_page  conversions  conversion_rate  \n",
       "0           186            0         0.000000  \n",
       "1           172            2         0.011364  \n",
       "2           127            1         0.004149  \n",
       "3           159            2         0.009091  \n",
       "4           135            1         0.010753  "
      ]
     },
     "execution_count": 74,
     "metadata": {},
     "output_type": "execute_result"
    }
   ],
   "source": [
    "import pandas as pd\n",
    "import numpy as np\n",
    "import matplotlib.pyplot as plt\n",
    "import seaborn as sns\n",
    "df = pd.read_csv(\"ab_test_analysis.tsv\", sep='\\t', parse_dates=True)\n",
    "df['conversion_rate'] = df['conversions']/df['visits']\n",
    "df[:5]"
   ]
  },
  {
   "cell_type": "code",
   "execution_count": 75,
   "metadata": {},
   "outputs": [
    {
     "name": "stdout",
     "output_type": "stream",
     "text": [
      "<class 'pandas.core.frame.DataFrame'>\n",
      "RangeIndex: 2430 entries, 0 to 2429\n",
      "Data columns (total 10 columns):\n",
      "date               2430 non-null object\n",
      "version            2430 non-null int64\n",
      "location           2430 non-null object\n",
      "device             2430 non-null object\n",
      "browser            2430 non-null object\n",
      "visits             2430 non-null int64\n",
      "bounce_rate        2430 non-null float64\n",
      "time_on_page       2430 non-null int64\n",
      "conversions        2430 non-null int64\n",
      "conversion_rate    2430 non-null float64\n",
      "dtypes: float64(2), int64(4), object(4)\n",
      "memory usage: 189.9+ KB\n"
     ]
    }
   ],
   "source": [
    "df.info()"
   ]
  },
  {
   "cell_type": "code",
   "execution_count": 76,
   "metadata": {},
   "outputs": [
    {
     "name": "stdout",
     "output_type": "stream",
     "text": [
      "date\n"
     ]
    },
    {
     "data": {
      "text/plain": [
       "<matplotlib.figure.Figure at 0x10b769b00>"
      ]
     },
     "metadata": {},
     "output_type": "display_data"
    },
    {
     "data": {
      "image/png": "[encoded data removed]",
      "text/plain": [
       "<matplotlib.figure.Figure at 0x1a11d07e80>"
      ]
     },
     "metadata": {},
     "output_type": "display_data"
    },
    {
     "name": "stdout",
     "output_type": "stream",
     "text": [
      "version\n"
     ]
    },
    {
     "data": {
      "text/plain": [
       "<matplotlib.figure.Figure at 0x10b6d94e0>"
      ]
     },
     "metadata": {},
     "output_type": "display_data"
    },
    {
     "data": {
      "image/png": "[encoded data removed]",
      "text/plain": [
       "<matplotlib.figure.Figure at 0x10bcd8b70>"
      ]
     },
     "metadata": {},
     "output_type": "display_data"
    },
    {
     "name": "stdout",
     "output_type": "stream",
     "text": [
      "location\n"
     ]
    },
    {
     "data": {
      "text/plain": [
       "<matplotlib.figure.Figure at 0x1086a6470>"
      ]
     },
     "metadata": {},
     "output_type": "display_data"
    },
    {
     "data": {
      "image/png": "[encoded data removed]",
      "text/plain": [
       "<matplotlib.figure.Figure at 0x10b83ccc0>"
      ]
     },
     "metadata": {},
     "output_type": "display_data"
    },
    {
     "name": "stdout",
     "output_type": "stream",
     "text": [
      "device\n"
     ]
    },
    {
     "data": {
      "text/plain": [
       "<matplotlib.figure.Figure at 0x1a11d73940>"
      ]
     },
     "metadata": {},
     "output_type": "display_data"
    },
    {
     "data": {
      "image/png": "[encoded data removed]",
      "text/plain": [
       "<matplotlib.figure.Figure at 0x10bdcbe10>"
      ]
     },
     "metadata": {},
     "output_type": "display_data"
    },
    {
     "name": "stdout",
     "output_type": "stream",
     "text": [
      "browser\n"
     ]
    },
    {
     "data": {
      "text/plain": [
       "<matplotlib.figure.Figure at 0x10bd21d30>"
      ]
     },
     "metadata": {},
     "output_type": "display_data"
    },
    {
     "data": {
      "image/png": "[encoded data removed]",
      "text/plain": [
       "<matplotlib.figure.Figure at 0x10bc07630>"
      ]
     },
     "metadata": {},
     "output_type": "display_data"
    },
    {
     "name": "stdout",
     "output_type": "stream",
     "text": [
      "visits\n"
     ]
    },
    {
     "data": {
      "text/plain": [
       "<matplotlib.figure.Figure at 0x102bacef0>"
      ]
     },
     "metadata": {},
     "output_type": "display_data"
    },
    {
     "data": {
      "image/png": "[encoded data removed]",
      "text/plain": [
       "<matplotlib.figure.Figure at 0x1a11f19ba8>"
      ]
     },
     "metadata": {},
     "output_type": "display_data"
    },
    {
     "name": "stdout",
     "output_type": "stream",
     "text": [
      "bounce_rate\n"
     ]
    },
    {
     "data": {
      "text/plain": [
       "<matplotlib.figure.Figure at 0x1a11f92860>"
      ]
     },
     "metadata": {},
     "output_type": "display_data"
    },
    {
     "data": {
      "image/png": "[encoded data removed]",
      "text/plain": [
       "<matplotlib.figure.Figure at 0x1030e3978>"
      ]
     },
     "metadata": {},
     "output_type": "display_data"
    },
    {
     "name": "stdout",
     "output_type": "stream",
     "text": [
      "time_on_page\n"
     ]
    },
    {
     "data": {
      "text/plain": [
       "<matplotlib.figure.Figure at 0x10b7df6a0>"
      ]
     },
     "metadata": {},
     "output_type": "display_data"
    },
    {
     "data": {
      "image/png": "[encoded data removed]",
      "text/plain": [
       "<matplotlib.figure.Figure at 0x10b680a90>"
      ]
     },
     "metadata": {},
     "output_type": "display_data"
    },
    {
     "name": "stdout",
     "output_type": "stream",
     "text": [
      "conversions\n"
     ]
    },
    {
     "data": {
      "text/plain": [
       "<matplotlib.figure.Figure at 0x1a11f21b70>"
      ]
     },
     "metadata": {},
     "output_type": "display_data"
    },
    {
     "data": {
      "image/png": "[encoded data removed]",
      "text/plain": [
       "<matplotlib.figure.Figure at 0x10ba7ecf8>"
      ]
     },
     "metadata": {},
     "output_type": "display_data"
    },
    {
     "name": "stdout",
     "output_type": "stream",
     "text": [
      "conversion_rate\n"
     ]
    },
    {
     "data": {
      "text/plain": [
       "<matplotlib.figure.Figure at 0x102c1c9e8>"
      ]
     },
     "metadata": {},
     "output_type": "display_data"
    },
    {
     "data": {
      "image/png": "[encoded data removed]",
      "text/plain": [
       "<matplotlib.figure.Figure at 0x10bd19390>"
      ]
     },
     "metadata": {},
     "output_type": "display_data"
    }
   ],
   "source": [
    "def histPlots(DataFrame):\n",
    "    for i in DataFrame.columns:\n",
    "        plt.figure()\n",
    "        df.hist(column=i, by='version', sharex=True, sharey=True, bins=10)\n",
    "        print(i)\n",
    "        plt.show()\n",
    "    \n",
    "histPlots(df) "
   ]
  },
  {
   "cell_type": "code",
   "execution_count": 77,
   "metadata": {},
   "outputs": [
    {
     "data": {
      "text/html": [
       "<div>\n",
       "<style>\n",
       "    .dataframe thead tr:only-child th {\n",
       "        text-align: right;\n",
       "    }\n",
       "\n",
       "    .dataframe thead th {\n",
       "        text-align: left;\n",
       "    }\n",
       "\n",
       "    .dataframe tbody tr th {\n",
       "        vertical-align: top;\n",
       "    }\n",
       "</style>\n",
       "<table border=\"1\" class=\"dataframe\">\n",
       "  <thead>\n",
       "    <tr style=\"text-align: right;\">\n",
       "      <th></th>\n",
       "      <th>version</th>\n",
       "      <th>visits</th>\n",
       "      <th>bounce_rate</th>\n",
       "      <th>time_on_page</th>\n",
       "      <th>conversions</th>\n",
       "      <th>conversion_rate</th>\n",
       "    </tr>\n",
       "  </thead>\n",
       "  <tbody>\n",
       "    <tr>\n",
       "      <th>count</th>\n",
       "      <td>810.0</td>\n",
       "      <td>810.000000</td>\n",
       "      <td>810.000000</td>\n",
       "      <td>810.000000</td>\n",
       "      <td>810.000000</td>\n",
       "      <td>810.000000</td>\n",
       "    </tr>\n",
       "    <tr>\n",
       "      <th>mean</th>\n",
       "      <td>0.0</td>\n",
       "      <td>445.016049</td>\n",
       "      <td>0.443605</td>\n",
       "      <td>150.135802</td>\n",
       "      <td>3.009877</td>\n",
       "      <td>0.007280</td>\n",
       "    </tr>\n",
       "    <tr>\n",
       "      <th>std</th>\n",
       "      <td>0.0</td>\n",
       "      <td>386.678881</td>\n",
       "      <td>0.073650</td>\n",
       "      <td>29.773041</td>\n",
       "      <td>3.744946</td>\n",
       "      <td>0.006200</td>\n",
       "    </tr>\n",
       "    <tr>\n",
       "      <th>min</th>\n",
       "      <td>0.0</td>\n",
       "      <td>29.000000</td>\n",
       "      <td>0.320000</td>\n",
       "      <td>100.000000</td>\n",
       "      <td>0.000000</td>\n",
       "      <td>0.000000</td>\n",
       "    </tr>\n",
       "    <tr>\n",
       "      <th>25%</th>\n",
       "      <td>0.0</td>\n",
       "      <td>191.000000</td>\n",
       "      <td>0.380000</td>\n",
       "      <td>124.000000</td>\n",
       "      <td>1.000000</td>\n",
       "      <td>0.002581</td>\n",
       "    </tr>\n",
       "    <tr>\n",
       "      <th>50%</th>\n",
       "      <td>0.0</td>\n",
       "      <td>327.500000</td>\n",
       "      <td>0.440000</td>\n",
       "      <td>149.000000</td>\n",
       "      <td>2.000000</td>\n",
       "      <td>0.006173</td>\n",
       "    </tr>\n",
       "    <tr>\n",
       "      <th>75%</th>\n",
       "      <td>0.0</td>\n",
       "      <td>575.000000</td>\n",
       "      <td>0.507500</td>\n",
       "      <td>177.000000</td>\n",
       "      <td>4.000000</td>\n",
       "      <td>0.010479</td>\n",
       "    </tr>\n",
       "    <tr>\n",
       "      <th>max</th>\n",
       "      <td>0.0</td>\n",
       "      <td>3235.000000</td>\n",
       "      <td>0.570000</td>\n",
       "      <td>200.000000</td>\n",
       "      <td>36.000000</td>\n",
       "      <td>0.032258</td>\n",
       "    </tr>\n",
       "  </tbody>\n",
       "</table>\n",
       "</div>"
      ],
      "text/plain": [
       "       version       visits  bounce_rate  time_on_page  conversions  \\\n",
       "count    810.0   810.000000   810.000000    810.000000   810.000000   \n",
       "mean       0.0   445.016049     0.443605    150.135802     3.009877   \n",
       "std        0.0   386.678881     0.073650     29.773041     3.744946   \n",
       "min        0.0    29.000000     0.320000    100.000000     0.000000   \n",
       "25%        0.0   191.000000     0.380000    124.000000     1.000000   \n",
       "50%        0.0   327.500000     0.440000    149.000000     2.000000   \n",
       "75%        0.0   575.000000     0.507500    177.000000     4.000000   \n",
       "max        0.0  3235.000000     0.570000    200.000000    36.000000   \n",
       "\n",
       "       conversion_rate  \n",
       "count       810.000000  \n",
       "mean          0.007280  \n",
       "std           0.006200  \n",
       "min           0.000000  \n",
       "25%           0.002581  \n",
       "50%           0.006173  \n",
       "75%           0.010479  \n",
       "max           0.032258  "
      ]
     },
     "execution_count": 77,
     "metadata": {},
     "output_type": "execute_result"
    }
   ],
   "source": [
    "df_version0 = df[df['version'] == 0]\n",
    "df_version0.describe()"
   ]
  },
  {
   "cell_type": "code",
   "execution_count": 78,
   "metadata": {},
   "outputs": [
    {
     "data": {
      "text/html": [
       "<div>\n",
       "<style>\n",
       "    .dataframe thead tr:only-child th {\n",
       "        text-align: right;\n",
       "    }\n",
       "\n",
       "    .dataframe thead th {\n",
       "        text-align: left;\n",
       "    }\n",
       "\n",
       "    .dataframe tbody tr th {\n",
       "        vertical-align: top;\n",
       "    }\n",
       "</style>\n",
       "<table border=\"1\" class=\"dataframe\">\n",
       "  <thead>\n",
       "    <tr style=\"text-align: right;\">\n",
       "      <th></th>\n",
       "      <th>version</th>\n",
       "      <th>visits</th>\n",
       "      <th>bounce_rate</th>\n",
       "      <th>time_on_page</th>\n",
       "      <th>conversions</th>\n",
       "      <th>conversion_rate</th>\n",
       "    </tr>\n",
       "  </thead>\n",
       "  <tbody>\n",
       "    <tr>\n",
       "      <th>count</th>\n",
       "      <td>810.0</td>\n",
       "      <td>810.000000</td>\n",
       "      <td>810.000000</td>\n",
       "      <td>810.000000</td>\n",
       "      <td>810.000000</td>\n",
       "      <td>810.000000</td>\n",
       "    </tr>\n",
       "    <tr>\n",
       "      <th>mean</th>\n",
       "      <td>1.0</td>\n",
       "      <td>225.151852</td>\n",
       "      <td>0.446420</td>\n",
       "      <td>150.272840</td>\n",
       "      <td>1.976543</td>\n",
       "      <td>0.009725</td>\n",
       "    </tr>\n",
       "    <tr>\n",
       "      <th>std</th>\n",
       "      <td>0.0</td>\n",
       "      <td>185.328734</td>\n",
       "      <td>0.075619</td>\n",
       "      <td>29.030028</td>\n",
       "      <td>2.249723</td>\n",
       "      <td>0.008751</td>\n",
       "    </tr>\n",
       "    <tr>\n",
       "      <th>min</th>\n",
       "      <td>1.0</td>\n",
       "      <td>7.000000</td>\n",
       "      <td>0.320000</td>\n",
       "      <td>100.000000</td>\n",
       "      <td>0.000000</td>\n",
       "      <td>0.000000</td>\n",
       "    </tr>\n",
       "    <tr>\n",
       "      <th>25%</th>\n",
       "      <td>1.0</td>\n",
       "      <td>95.000000</td>\n",
       "      <td>0.380000</td>\n",
       "      <td>125.000000</td>\n",
       "      <td>1.000000</td>\n",
       "      <td>0.002232</td>\n",
       "    </tr>\n",
       "    <tr>\n",
       "      <th>50%</th>\n",
       "      <td>1.0</td>\n",
       "      <td>166.000000</td>\n",
       "      <td>0.450000</td>\n",
       "      <td>151.000000</td>\n",
       "      <td>1.000000</td>\n",
       "      <td>0.008258</td>\n",
       "    </tr>\n",
       "    <tr>\n",
       "      <th>75%</th>\n",
       "      <td>1.0</td>\n",
       "      <td>298.750000</td>\n",
       "      <td>0.510000</td>\n",
       "      <td>175.000000</td>\n",
       "      <td>3.000000</td>\n",
       "      <td>0.014706</td>\n",
       "    </tr>\n",
       "    <tr>\n",
       "      <th>max</th>\n",
       "      <td>1.0</td>\n",
       "      <td>1307.000000</td>\n",
       "      <td>0.570000</td>\n",
       "      <td>200.000000</td>\n",
       "      <td>17.000000</td>\n",
       "      <td>0.050000</td>\n",
       "    </tr>\n",
       "  </tbody>\n",
       "</table>\n",
       "</div>"
      ],
      "text/plain": [
       "       version       visits  bounce_rate  time_on_page  conversions  \\\n",
       "count    810.0   810.000000   810.000000    810.000000   810.000000   \n",
       "mean       1.0   225.151852     0.446420    150.272840     1.976543   \n",
       "std        0.0   185.328734     0.075619     29.030028     2.249723   \n",
       "min        1.0     7.000000     0.320000    100.000000     0.000000   \n",
       "25%        1.0    95.000000     0.380000    125.000000     1.000000   \n",
       "50%        1.0   166.000000     0.450000    151.000000     1.000000   \n",
       "75%        1.0   298.750000     0.510000    175.000000     3.000000   \n",
       "max        1.0  1307.000000     0.570000    200.000000    17.000000   \n",
       "\n",
       "       conversion_rate  \n",
       "count       810.000000  \n",
       "mean          0.009725  \n",
       "std           0.008751  \n",
       "min           0.000000  \n",
       "25%           0.002232  \n",
       "50%           0.008258  \n",
       "75%           0.014706  \n",
       "max           0.050000  "
      ]
     },
     "execution_count": 78,
     "metadata": {},
     "output_type": "execute_result"
    }
   ],
   "source": [
    "df_version1 = df[df['version'] == 1]\n",
    "df_version1.describe()"
   ]
  },
  {
   "cell_type": "code",
   "execution_count": 79,
   "metadata": {},
   "outputs": [
    {
     "data": {
      "text/html": [
       "<div>\n",
       "<style>\n",
       "    .dataframe thead tr:only-child th {\n",
       "        text-align: right;\n",
       "    }\n",
       "\n",
       "    .dataframe thead th {\n",
       "        text-align: left;\n",
       "    }\n",
       "\n",
       "    .dataframe tbody tr th {\n",
       "        vertical-align: top;\n",
       "    }\n",
       "</style>\n",
       "<table border=\"1\" class=\"dataframe\">\n",
       "  <thead>\n",
       "    <tr style=\"text-align: right;\">\n",
       "      <th></th>\n",
       "      <th>version</th>\n",
       "      <th>visits</th>\n",
       "      <th>bounce_rate</th>\n",
       "      <th>time_on_page</th>\n",
       "      <th>conversions</th>\n",
       "      <th>conversion_rate</th>\n",
       "    </tr>\n",
       "  </thead>\n",
       "  <tbody>\n",
       "    <tr>\n",
       "      <th>count</th>\n",
       "      <td>810.0</td>\n",
       "      <td>810.000000</td>\n",
       "      <td>810.000000</td>\n",
       "      <td>810.000000</td>\n",
       "      <td>810.000000</td>\n",
       "      <td>810.000000</td>\n",
       "    </tr>\n",
       "    <tr>\n",
       "      <th>mean</th>\n",
       "      <td>2.0</td>\n",
       "      <td>222.859259</td>\n",
       "      <td>0.443111</td>\n",
       "      <td>150.616049</td>\n",
       "      <td>1.517284</td>\n",
       "      <td>0.007115</td>\n",
       "    </tr>\n",
       "    <tr>\n",
       "      <th>std</th>\n",
       "      <td>0.0</td>\n",
       "      <td>184.568732</td>\n",
       "      <td>0.076118</td>\n",
       "      <td>29.490850</td>\n",
       "      <td>1.859814</td>\n",
       "      <td>0.007065</td>\n",
       "    </tr>\n",
       "    <tr>\n",
       "      <th>min</th>\n",
       "      <td>2.0</td>\n",
       "      <td>15.000000</td>\n",
       "      <td>0.320000</td>\n",
       "      <td>100.000000</td>\n",
       "      <td>0.000000</td>\n",
       "      <td>0.000000</td>\n",
       "    </tr>\n",
       "    <tr>\n",
       "      <th>25%</th>\n",
       "      <td>2.0</td>\n",
       "      <td>97.000000</td>\n",
       "      <td>0.380000</td>\n",
       "      <td>126.000000</td>\n",
       "      <td>0.000000</td>\n",
       "      <td>0.000000</td>\n",
       "    </tr>\n",
       "    <tr>\n",
       "      <th>50%</th>\n",
       "      <td>2.0</td>\n",
       "      <td>170.500000</td>\n",
       "      <td>0.440000</td>\n",
       "      <td>150.000000</td>\n",
       "      <td>1.000000</td>\n",
       "      <td>0.006039</td>\n",
       "    </tr>\n",
       "    <tr>\n",
       "      <th>75%</th>\n",
       "      <td>2.0</td>\n",
       "      <td>290.250000</td>\n",
       "      <td>0.510000</td>\n",
       "      <td>176.000000</td>\n",
       "      <td>2.000000</td>\n",
       "      <td>0.011761</td>\n",
       "    </tr>\n",
       "    <tr>\n",
       "      <th>max</th>\n",
       "      <td>2.0</td>\n",
       "      <td>1399.000000</td>\n",
       "      <td>0.570000</td>\n",
       "      <td>200.000000</td>\n",
       "      <td>14.000000</td>\n",
       "      <td>0.040000</td>\n",
       "    </tr>\n",
       "  </tbody>\n",
       "</table>\n",
       "</div>"
      ],
      "text/plain": [
       "       version       visits  bounce_rate  time_on_page  conversions  \\\n",
       "count    810.0   810.000000   810.000000    810.000000   810.000000   \n",
       "mean       2.0   222.859259     0.443111    150.616049     1.517284   \n",
       "std        0.0   184.568732     0.076118     29.490850     1.859814   \n",
       "min        2.0    15.000000     0.320000    100.000000     0.000000   \n",
       "25%        2.0    97.000000     0.380000    126.000000     0.000000   \n",
       "50%        2.0   170.500000     0.440000    150.000000     1.000000   \n",
       "75%        2.0   290.250000     0.510000    176.000000     2.000000   \n",
       "max        2.0  1399.000000     0.570000    200.000000    14.000000   \n",
       "\n",
       "       conversion_rate  \n",
       "count       810.000000  \n",
       "mean          0.007115  \n",
       "std           0.007065  \n",
       "min           0.000000  \n",
       "25%           0.000000  \n",
       "50%           0.006039  \n",
       "75%           0.011761  \n",
       "max           0.040000  "
      ]
     },
     "execution_count": 79,
     "metadata": {},
     "output_type": "execute_result"
    }
   ],
   "source": [
    "df_version2 = df[df['version'] == 2]\n",
    "df_version2.describe()"
   ]
  },
  {
   "cell_type": "code",
   "execution_count": 80,
   "metadata": {},
   "outputs": [
    {
     "name": "stdout",
     "output_type": "stream",
     "text": [
      "0.007280442676450924\n",
      "0.00972459915365043\n",
      "0.0071150692923082825\n"
     ]
    }
   ],
   "source": [
    "print(df_version0.conversion_rate.mean())\n",
    "print(df_version1.conversion_rate.mean())\n",
    "print(df_version2.conversion_rate.mean())"
   ]
  },
  {
   "cell_type": "code",
   "execution_count": 128,
   "metadata": {},
   "outputs": [
    {
     "name": "stdout",
     "output_type": "stream",
     "text": [
      "0.3357153659220878\n",
      "0.006345318935766706\n",
      "0.000912753885371238\n"
     ]
    }
   ],
   "source": [
    "print((df_version1.conversion_rate.mean()-df_version0.conversion_rate.mean())/df_version0.conversion_rate.mean())\n",
    "print((df_version2.conversion_rate.mean()-df_version0.conversion_rate.mean())/df_version0.conversion_rate.mean())\n",
    "\n"
   ]
  },
  {
   "cell_type": "code",
   "execution_count": 81,
   "metadata": {},
   "outputs": [
    {
     "data": {
      "image/png": "[encoded data removed]",
      "text/plain": [
       "<matplotlib.figure.Figure at 0x1a122643c8>"
      ]
     },
     "metadata": {},
     "output_type": "display_data"
    }
   ],
   "source": [
    "fig = plt.figure()\n",
    "sns.boxplot(x=\"version\", y=\"conversion_rate\", data=df)\n",
    "plt.title(\"Conversion Rate per Version\") \n",
    "plt.show()\n",
    "fig.savefig('conv_rate_byversion.png', dpi=fig.dpi)"
   ]
  },
  {
   "cell_type": "code",
   "execution_count": 144,
   "metadata": {},
   "outputs": [
    {
     "data": {
      "image/png": "[encoded data removed]",
      "text/plain": [
       "<matplotlib.figure.Figure at 0x102b93358>"
      ]
     },
     "metadata": {},
     "output_type": "display_data"
    }
   ],
   "source": [
    "fig = plt.figure()\n",
    "sns.boxplot(x=\"version\", y=\"time_on_page\", data=df)\n",
    "plt.title(\"Time On Page by Version\")\n",
    "plt.show()\n",
    "fig.savefig('time_on_page_byversion.png', dpi=fig.dpi)"
   ]
  },
  {
   "cell_type": "code",
   "execution_count": 145,
   "metadata": {},
   "outputs": [
    {
     "data": {
      "image/png": "[encoded data removed]",
      "text/plain": [
       "<matplotlib.figure.Figure at 0x10bca1908>"
      ]
     },
     "metadata": {},
     "output_type": "display_data"
    }
   ],
   "source": [
    "fig = plt.figure()\n",
    "sns.boxplot(x=\"version\", y=\"bounce_rate\", data=df)\n",
    "plt.title(\"Bounce Rate by Version\")\n",
    "plt.show()\n",
    "fig.savefig('bounce_rate_byversion.png', dpi=fig.dpi)"
   ]
  },
  {
   "cell_type": "code",
   "execution_count": 82,
   "metadata": {},
   "outputs": [
    {
     "data": {
      "image/png": "[encoded data removed]",
      "text/plain": [
       "<matplotlib.figure.Figure at 0x1a11dcd278>"
      ]
     },
     "metadata": {},
     "output_type": "display_data"
    }
   ],
   "source": [
    "fig = plt.figure()\n",
    "sns.boxplot(x=\"browser\", y=\"conversion_rate\", hue=\"version\", data=df)\n",
    "plt.title(\"Conversion Rate per Browser by Version\") \n",
    "plt.show()\n",
    "fig.savefig('conv_rate_bybrowser_byversion.png', dpi=fig.dpi)"
   ]
  },
  {
   "cell_type": "code",
   "execution_count": 83,
   "metadata": {},
   "outputs": [
    {
     "data": {
      "image/png": "[encoded data removed]",
      "text/plain": [
       "<matplotlib.figure.Figure at 0x10bc1ff98>"
      ]
     },
     "metadata": {},
     "output_type": "display_data"
    }
   ],
   "source": [
    "fig = plt.figure()\n",
    "sns.boxplot(x=\"location\", y=\"conversion_rate\", hue=\"version\", data=df)\n",
    "plt.title(\"Conversion Rate per Location by Version\") \n",
    "plt.show()\n",
    "fig.savefig('conv_rate_bylocation_byversion.png', dpi=fig.dpi)"
   ]
  },
  {
   "cell_type": "code",
   "execution_count": 84,
   "metadata": {
    "scrolled": true
   },
   "outputs": [
    {
     "data": {
      "image/png": "[encoded data removed]",
      "text/plain": [
       "<matplotlib.figure.Figure at 0x101acbe48>"
      ]
     },
     "metadata": {},
     "output_type": "display_data"
    }
   ],
   "source": [
    "fig = plt.figure()\n",
    "sns.boxplot(x=\"device\", y=\"conversion_rate\", hue=\"version\", data=df)\n",
    "plt.title(\"Conversion Rate per Device by Version\")\n",
    "plt.show()\n",
    "fig.savefig('conv_rate_bydevice_byversion.png', dpi=fig.dpi)"
   ]
  },
  {
   "cell_type": "code",
   "execution_count": 129,
   "metadata": {},
   "outputs": [
    {
     "data": {
      "image/png": "[encoded data removed]",
      "text/plain": [
       "<matplotlib.figure.Figure at 0x10bbb84a8>"
      ]
     },
     "metadata": {},
     "output_type": "display_data"
    }
   ],
   "source": [
    "fig = plt.figure()\n",
    "sns.boxplot(x=\"device\", y=\"bounce_rate\", hue=\"version\", data=df)\n",
    "plt.title(\"Bounce Rate per Device by Version\")\n",
    "plt.show()\n",
    "fig.savefig('bounce_rate_bydevice_byversion.png', dpi=fig.dpi)"
   ]
  },
  {
   "cell_type": "code",
   "execution_count": 130,
   "metadata": {},
   "outputs": [
    {
     "data": {
      "image/png": "[encoded data removed]",
      "text/plain": [
       "<matplotlib.figure.Figure at 0x10bcd8240>"
      ]
     },
     "metadata": {},
     "output_type": "display_data"
    }
   ],
   "source": [
    "fig = plt.figure()\n",
    "sns.boxplot(x=\"location\", y=\"bounce_rate\", hue=\"version\", data=df)\n",
    "plt.title(\"Bounce Rate per Location by Version\")\n",
    "plt.show()\n",
    "fig.savefig('bounce_rate_bylocation_byversion.png', dpi=fig.dpi)"
   ]
  },
  {
   "cell_type": "code",
   "execution_count": 131,
   "metadata": {},
   "outputs": [
    {
     "data": {
      "image/png": "[encoded data removed]",
      "text/plain": [
       "<matplotlib.figure.Figure at 0x10b726ba8>"
      ]
     },
     "metadata": {},
     "output_type": "display_data"
    }
   ],
   "source": [
    "fig = plt.figure()\n",
    "sns.boxplot(x=\"browser\", y=\"bounce_rate\", hue=\"version\", data=df)\n",
    "plt.title(\"Bounce Rate per Browser by Version\")\n",
    "plt.show()\n",
    "fig.savefig('bounce_rate_bybrowser_byversion.png', dpi=fig.dpi)"
   ]
  },
  {
   "cell_type": "code",
   "execution_count": 132,
   "metadata": {},
   "outputs": [
    {
     "data": {
      "image/png": "[encoded data removed]",
      "text/plain": [
       "<matplotlib.figure.Figure at 0x1a11d589e8>"
      ]
     },
     "metadata": {},
     "output_type": "display_data"
    }
   ],
   "source": [
    "fig = plt.figure()\n",
    "sns.boxplot(x=\"browser\", y=\"time_on_page\", hue=\"version\", data=df)\n",
    "plt.title(\"Time On Page per Browser by Version\")\n",
    "plt.show()\n",
    "fig.savefig('time_on_page_bybrowser_byversion.png', dpi=fig.dpi)"
   ]
  },
  {
   "cell_type": "code",
   "execution_count": 133,
   "metadata": {},
   "outputs": [
    {
     "data": {
      "image/png": "[encoded data removed]",
      "text/plain": [
       "<matplotlib.figure.Figure at 0x1a11e028d0>"
      ]
     },
     "metadata": {},
     "output_type": "display_data"
    }
   ],
   "source": [
    "fig = plt.figure()\n",
    "sns.boxplot(x=\"location\", y=\"time_on_page\", hue=\"version\", data=df)\n",
    "plt.title(\"Time On Page per Location by Version\")\n",
    "plt.show()\n",
    "fig.savefig('time_on_page_bylocation_byversion.png', dpi=fig.dpi)"
   ]
  },
  {
   "cell_type": "code",
   "execution_count": 134,
   "metadata": {},
   "outputs": [
    {
     "data": {
      "image/png": "[encoded data removed]",
      "text/plain": [
       "<matplotlib.figure.Figure at 0x10bcf1630>"
      ]
     },
     "metadata": {},
     "output_type": "display_data"
    }
   ],
   "source": [
    "fig = plt.figure()\n",
    "sns.boxplot(x=\"device\", y=\"time_on_page\", hue=\"version\", data=df)\n",
    "plt.title(\"Time On Page per Device by Version\")\n",
    "plt.show()\n",
    "fig.savefig('time_on_page_bydevice_byversion.png', dpi=fig.dpi)"
   ]
  },
  {
   "cell_type": "code",
   "execution_count": 151,
   "metadata": {},
   "outputs": [
    {
     "name": "stdout",
     "output_type": "stream",
     "text": [
      "Elapsed time was 1.5093750953674316 seconds\n",
      "version0\n"
     ]
    },
    {
     "data": {
      "text/html": [
       "<div>\n",
       "<style>\n",
       "    .dataframe thead tr:only-child th {\n",
       "        text-align: right;\n",
       "    }\n",
       "\n",
       "    .dataframe thead th {\n",
       "        text-align: left;\n",
       "    }\n",
       "\n",
       "    .dataframe tbody tr th {\n",
       "        vertical-align: top;\n",
       "    }\n",
       "</style>\n",
       "<table border=\"1\" class=\"dataframe\">\n",
       "  <thead>\n",
       "    <tr style=\"text-align: right;\">\n",
       "      <th></th>\n",
       "      <th>visits</th>\n",
       "      <th>bounce_rate</th>\n",
       "      <th>time_on_page</th>\n",
       "      <th>conversions</th>\n",
       "      <th>conversion_rate</th>\n",
       "      <th>total_rows</th>\n",
       "      <th>percent_total_rows</th>\n",
       "    </tr>\n",
       "  </thead>\n",
       "  <tbody>\n",
       "    <tr>\n",
       "      <th>0</th>\n",
       "      <td>341.319782</td>\n",
       "      <td>0.440474</td>\n",
       "      <td>151.379211</td>\n",
       "      <td>1.980329</td>\n",
       "      <td>0.006813</td>\n",
       "      <td>705</td>\n",
       "      <td>0.87037</td>\n",
       "    </tr>\n",
       "    <tr>\n",
       "      <th>1</th>\n",
       "      <td>1133.086461</td>\n",
       "      <td>0.464568</td>\n",
       "      <td>141.980357</td>\n",
       "      <td>9.854410</td>\n",
       "      <td>0.010404</td>\n",
       "      <td>105</td>\n",
       "      <td>0.12963</td>\n",
       "    </tr>\n",
       "  </tbody>\n",
       "</table>\n",
       "</div>"
      ],
      "text/plain": [
       "        visits  bounce_rate  time_on_page  conversions  conversion_rate  \\\n",
       "0   341.319782     0.440474    151.379211     1.980329         0.006813   \n",
       "1  1133.086461     0.464568    141.980357     9.854410         0.010404   \n",
       "\n",
       "   total_rows  percent_total_rows  \n",
       "0         705             0.87037  \n",
       "1         105             0.12963  "
      ]
     },
     "execution_count": 151,
     "metadata": {},
     "output_type": "execute_result"
    }
   ],
   "source": [
    "from sklearn.cluster import MiniBatchKMeans\n",
    "import time\n",
    "start_time = time.time()\n",
    "\n",
    "k = 2\n",
    "\n",
    "from sklearn.preprocessing import StandardScaler\n",
    "\n",
    "df2 = df[df[\"version\"] == 0]   #isolate version (IN LIEU OF THE DE-DIMENSIONALIZED COLUMNS)\n",
    "df2 = df2[[\"visits\", \"bounce_rate\", \"time_on_page\", \"conversions\", \"conversion_rate\"]]\n",
    "\n",
    "\n",
    "std_scaler = StandardScaler()\n",
    "np_norm_data = std_scaler.fit_transform(df2) \n",
    "np_norm_data.shape\n",
    "\n",
    "kmeans = MiniBatchKMeans(n_clusters=k, max_iter=500, \n",
    "                        batch_size=1024*8, \n",
    "                        max_no_improvement=None, \n",
    "                        init_size=3*1024*8, n_init=100, reassignment_ratio=0.05)\n",
    "kmeans.fit(np_norm_data)\n",
    "\n",
    "print(\"Elapsed time was {} seconds\".format(time.time() - start_time))\n",
    "print(\"version0\")\n",
    "\n",
    "cluster_metrics = std_scaler.inverse_transform(kmeans.cluster_centers_)\n",
    "cluster_metrics_pd = pd.DataFrame(cluster_metrics, columns=df2.columns)\n",
    "cluster_metrics_pd['total_rows'] = pd.Series(np.bincount(kmeans.labels_))\n",
    "cluster_metrics_pd['percent_total_rows'] = pd.Series(np.bincount(kmeans.labels_)) / np_norm_data.shape[0]\n",
    "cluster_metrics_pd"
   ]
  },
  {
   "cell_type": "code",
   "execution_count": 152,
   "metadata": {},
   "outputs": [
    {
     "name": "stdout",
     "output_type": "stream",
     "text": [
      "Elapsed time was 1.8584020137786865 seconds\n",
      "version1\n"
     ]
    },
    {
     "data": {
      "text/html": [
       "<div>\n",
       "<style>\n",
       "    .dataframe thead tr:only-child th {\n",
       "        text-align: right;\n",
       "    }\n",
       "\n",
       "    .dataframe thead th {\n",
       "        text-align: left;\n",
       "    }\n",
       "\n",
       "    .dataframe tbody tr th {\n",
       "        vertical-align: top;\n",
       "    }\n",
       "</style>\n",
       "<table border=\"1\" class=\"dataframe\">\n",
       "  <thead>\n",
       "    <tr style=\"text-align: right;\">\n",
       "      <th></th>\n",
       "      <th>visits</th>\n",
       "      <th>bounce_rate</th>\n",
       "      <th>time_on_page</th>\n",
       "      <th>conversions</th>\n",
       "      <th>conversion_rate</th>\n",
       "      <th>total_rows</th>\n",
       "      <th>percent_total_rows</th>\n",
       "    </tr>\n",
       "  </thead>\n",
       "  <tbody>\n",
       "    <tr>\n",
       "      <th>0</th>\n",
       "      <td>174.324739</td>\n",
       "      <td>0.443109</td>\n",
       "      <td>151.176459</td>\n",
       "      <td>0.868837</td>\n",
       "      <td>0.006331</td>\n",
       "      <td>558</td>\n",
       "      <td>0.688889</td>\n",
       "    </tr>\n",
       "    <tr>\n",
       "      <th>1</th>\n",
       "      <td>338.389377</td>\n",
       "      <td>0.453763</td>\n",
       "      <td>148.319320</td>\n",
       "      <td>4.443942</td>\n",
       "      <td>0.017274</td>\n",
       "      <td>252</td>\n",
       "      <td>0.311111</td>\n",
       "    </tr>\n",
       "  </tbody>\n",
       "</table>\n",
       "</div>"
      ],
      "text/plain": [
       "       visits  bounce_rate  time_on_page  conversions  conversion_rate  \\\n",
       "0  174.324739     0.443109    151.176459     0.868837         0.006331   \n",
       "1  338.389377     0.453763    148.319320     4.443942         0.017274   \n",
       "\n",
       "   total_rows  percent_total_rows  \n",
       "0         558            0.688889  \n",
       "1         252            0.311111  "
      ]
     },
     "execution_count": 152,
     "metadata": {},
     "output_type": "execute_result"
    }
   ],
   "source": [
    "from sklearn.cluster import MiniBatchKMeans\n",
    "import time\n",
    "start_time = time.time()\n",
    "\n",
    "k = 2\n",
    "\n",
    "from sklearn.preprocessing import StandardScaler\n",
    "\n",
    "df2 = df[df[\"version\"] == 1]   #isolate version (IN LIEU OF THE DE-DIMENSIONALIZED COLUMNS)\n",
    "df2 = df2[[\"visits\", \"bounce_rate\", \"time_on_page\", \"conversions\", \"conversion_rate\"]]\n",
    "\n",
    "\n",
    "std_scaler = StandardScaler()\n",
    "np_norm_data = std_scaler.fit_transform(df2)\n",
    "np_norm_data.shape\n",
    "\n",
    "kmeans = MiniBatchKMeans(n_clusters=k, max_iter=500, \n",
    "                        batch_size=1024*8, \n",
    "                        max_no_improvement=None, \n",
    "                        init_size=3*1024*8, n_init=100, reassignment_ratio=0.05)\n",
    "kmeans.fit(np_norm_data)\n",
    "\n",
    "print(\"Elapsed time was {} seconds\".format(time.time() - start_time))\n",
    "print(\"version1\")\n",
    "\n",
    "cluster_metrics = std_scaler.inverse_transform(kmeans.cluster_centers_)\n",
    "cluster_metrics_pd = pd.DataFrame(cluster_metrics, columns=df2.columns)\n",
    "cluster_metrics_pd['total_rows'] = pd.Series(np.bincount(kmeans.labels_))\n",
    "cluster_metrics_pd['percent_total_rows'] = pd.Series(np.bincount(kmeans.labels_)) / np_norm_data.shape[0]\n",
    "cluster_metrics_pd"
   ]
  },
  {
   "cell_type": "code",
   "execution_count": 153,
   "metadata": {},
   "outputs": [
    {
     "name": "stdout",
     "output_type": "stream",
     "text": [
      "Elapsed time was 1.460068702697754 seconds\n",
      "version 2\n"
     ]
    },
    {
     "data": {
      "text/html": [
       "<div>\n",
       "<style>\n",
       "    .dataframe thead tr:only-child th {\n",
       "        text-align: right;\n",
       "    }\n",
       "\n",
       "    .dataframe thead th {\n",
       "        text-align: left;\n",
       "    }\n",
       "\n",
       "    .dataframe tbody tr th {\n",
       "        vertical-align: top;\n",
       "    }\n",
       "</style>\n",
       "<table border=\"1\" class=\"dataframe\">\n",
       "  <thead>\n",
       "    <tr style=\"text-align: right;\">\n",
       "      <th></th>\n",
       "      <th>visits</th>\n",
       "      <th>bounce_rate</th>\n",
       "      <th>time_on_page</th>\n",
       "      <th>conversions</th>\n",
       "      <th>conversion_rate</th>\n",
       "      <th>total_rows</th>\n",
       "      <th>percent_total_rows</th>\n",
       "    </tr>\n",
       "  </thead>\n",
       "  <tbody>\n",
       "    <tr>\n",
       "      <th>0</th>\n",
       "      <td>300.317885</td>\n",
       "      <td>0.453480</td>\n",
       "      <td>152.438242</td>\n",
       "      <td>3.239346</td>\n",
       "      <td>0.013707</td>\n",
       "      <td>289</td>\n",
       "      <td>0.35679</td>\n",
       "    </tr>\n",
       "    <tr>\n",
       "      <th>1</th>\n",
       "      <td>179.347336</td>\n",
       "      <td>0.437319</td>\n",
       "      <td>149.590986</td>\n",
       "      <td>0.547811</td>\n",
       "      <td>0.003398</td>\n",
       "      <td>521</td>\n",
       "      <td>0.64321</td>\n",
       "    </tr>\n",
       "  </tbody>\n",
       "</table>\n",
       "</div>"
      ],
      "text/plain": [
       "       visits  bounce_rate  time_on_page  conversions  conversion_rate  \\\n",
       "0  300.317885     0.453480    152.438242     3.239346         0.013707   \n",
       "1  179.347336     0.437319    149.590986     0.547811         0.003398   \n",
       "\n",
       "   total_rows  percent_total_rows  \n",
       "0         289             0.35679  \n",
       "1         521             0.64321  "
      ]
     },
     "execution_count": 153,
     "metadata": {},
     "output_type": "execute_result"
    }
   ],
   "source": [
    "from sklearn.cluster import MiniBatchKMeans\n",
    "import time\n",
    "start_time = time.time()\n",
    "\n",
    "k = 2\n",
    "\n",
    "from sklearn.preprocessing import StandardScaler\n",
    "\n",
    "df2 = df[df[\"version\"] == 2]   #isolate version (IN LIEU OF THE DE-DIMENSIONALIZED COLUMNS)\n",
    "df2 = df2[[\"visits\", \"bounce_rate\", \"time_on_page\", \"conversions\", \"conversion_rate\"]]\n",
    "\n",
    "\n",
    "std_scaler = StandardScaler()\n",
    "np_norm_data = std_scaler.fit_transform(df2)  \n",
    "np_norm_data.shape\n",
    "\n",
    "kmeans = MiniBatchKMeans(n_clusters=k, max_iter=500, \n",
    "                        batch_size=1024*8, \n",
    "                        max_no_improvement=None, \n",
    "                        init_size=3*1024*8, n_init=100, reassignment_ratio=0.05)\n",
    "kmeans.fit(np_norm_data)\n",
    "\n",
    "print(\"Elapsed time was {} seconds\".format(time.time() - start_time))\n",
    "print(\"version 2\")\n",
    "\n",
    "cluster_metrics = std_scaler.inverse_transform(kmeans.cluster_centers_)\n",
    "cluster_metrics_pd = pd.DataFrame(cluster_metrics, columns=df2.columns)\n",
    "cluster_metrics_pd['total_rows'] = pd.Series(np.bincount(kmeans.labels_))\n",
    "cluster_metrics_pd['percent_total_rows'] = pd.Series(np.bincount(kmeans.labels_)) / np_norm_data.shape[0]\n",
    "cluster_metrics_pd"
   ]
  }
 ],
 "metadata": {
  "kernelspec": {
   "display_name": "Python 3",
   "language": "python",
   "name": "python3"
  },
  "language_info": {
   "codemirror_mode": {
    "name": "ipython",
    "version": 3
   },
   "file_extension": ".py",
   "mimetype": "text/x-python",
   "name": "python",
   "nbconvert_exporter": "python",
   "pygments_lexer": "ipython3",
   "version": "3.6.3"
  }
 },
 "nbformat": 4,
 "nbformat_minor": 2
}
